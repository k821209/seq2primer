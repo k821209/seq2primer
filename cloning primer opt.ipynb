{
 "cells": [
  {
   "cell_type": "code",
   "execution_count": 7,
   "metadata": {
    "collapsed": false
   },
   "outputs": [],
   "source": [
    "from __future__ import print_function\n",
    "import sys\n",
    "sys.path.append('/ref/analysis/pipelines/')\n",
    "import primer3\n",
    "import kang"
   ]
  },
  {
   "cell_type": "markdown",
   "metadata": {},
   "source": [
    " # Introduction \n",
    "The primers for cloning should include the start codon (ATG) and stop codon (TAA,TAG,TGA).  For this reason, the designing primer pairs for many genes can be complicated because of the imbalance of Tm value of each primer.  Hence the short python script is coded to find the primer pair showing minimum difference of Tm value.\n",
    "- Module : primer3, kang\n",
    "- Author : Yang Jae Kang"
   ]
  },
  {
   "cell_type": "code",
   "execution_count": 3,
   "metadata": {
    "collapsed": false
   },
   "outputs": [],
   "source": [
    "# Hi Yang Jae,\n",
    "#So the following concentrations I know:\n",
    "# dntp_conc: it is 0.2 mM each nucleotide – so 0.8 mM\n",
    "# dv_conc: conc of MgSO4 is 1.5 mM or 1.25 mM and (probably 8 mM MgCl2)\n",
    "# mv_conc: I think its 20 mM Tris-HCl\n",
    " \n",
    "def get_opt_cloningprimer_pair(seq):\n",
    "    oligo_calc = primer3.thermoanalysis.ThermoAnalysis(mv_conc=20, dv_conc=1.5, dntp_conc=0.8, dna_conc=50, max_nn_length=60)\n",
    "    # Change if you have personal condition for PCR \n",
    "    ## mv_conc   : The millimolar (mM) concentration of monovalent salt cations (usually KCl) in the PCR.\n",
    "    ## dv_conc   : The millimolar concentration of divalent salt cations (usually MgCl^(2+)) in the PCR.\n",
    "    ## dntp_conc : The millimolar concentration of the sum of all deoxyribonucleotide triphosphates.\n",
    "    ## dna_conc  : A value to use as nanomolar (nM) concentration of each annealing oligo over the course the PCR. \n",
    "    ## max_nn_length : longest seq length for primer Tm analysis\n",
    "    primerF_list = []\n",
    "    primerR_list = []\n",
    "    for i in range(16,22):\n",
    "        primerF = seq[0:i]\n",
    "        primerR = kang.rev_comp(seq[-i-3:-3]) # stop codon excluded\n",
    "        if 56 <= oligo_calc.calcTm(primerF) <= 63:\n",
    "            primerF_list.append(primerF)\n",
    "        else:\n",
    "            pass\n",
    "            #print (primerF, oligo_calc.calcTm(primerF) )\n",
    "        if 56 <= oligo_calc.calcTm(primerR) <= 63:\n",
    "            primerR_list.append(primerR)\n",
    "\n",
    "    primerF_list_Tm = [oligo_calc.calcTm(x) for x in primerF_list]\n",
    "    primerR_list_Tm = [oligo_calc.calcTm(x) for x in primerR_list]\n",
    "\n",
    "    comp_tm = []\n",
    "    for i,tmF in enumerate(primerF_list_Tm):\n",
    "        for j,tmR in enumerate(primerR_list_Tm):\n",
    "            if abs(tmF-tmR) <= 3:\n",
    "                comp_tm.append([i,j,tmF,tmR])\n",
    "\n",
    "    comp_tm.sort(key=lambda x : x[2]+x[3])\n",
    "    try:\n",
    "        ixF,ixR = comp_tm[0][0],comp_tm[0][1]\n",
    "        return primerF_list[ixF],primerF_list_Tm[ixF],primerR_list[ixR],primerR_list_Tm[ixR]\n",
    "    except IndexError:\n",
    "        return None,None,None,None\n",
    "    "
   ]
  },
  {
   "cell_type": "code",
   "execution_count": 4,
   "metadata": {
    "collapsed": true
   },
   "outputs": [],
   "source": [
    "file_fa = '/ref/analysis/References/Creinhardtii/annotation/Creinhardtii_281_v5.5.cds_primaryTranscriptOnly.fa'\n",
    "dicFa = kang.Fasta2dic(file_fa)"
   ]
  },
  {
   "cell_type": "code",
   "execution_count": 5,
   "metadata": {
    "collapsed": false
   },
   "outputs": [],
   "source": [
    "key   = ['.'.join(x.split('.')[0:2]) for x in dicFa.keys()]\n",
    "value = dicFa.values()\n",
    "dicFa_new = dict(zip(key,value))"
   ]
  },
  {
   "cell_type": "code",
   "execution_count": 9,
   "metadata": {
    "collapsed": false
   },
   "outputs": [],
   "source": [
    "\n",
    "genelist = [x.strip() for x in open('cloning_genelist.txt').readlines()]\n",
    "genelist.sort(key=lambda x : len(dicFa_new[x]))\n",
    "Outfile = 'primer.cloning_genelist.txt'\n",
    "with open(Outfile,'w') as f:\n",
    "    for genename in genelist:\n",
    "        seq = dicFa_new[genename]\n",
    "        primerF,TmF,primerR,TmR = get_opt_cloningprimer_pair(seq)\n",
    "        print (genename,len(seq),primerF,TmF,genename,len(seq),primerR,TmR,seq,sep='\\t',file=f)\n",
    "        #print (genename,len(seq),primerF,TmF,primerR,TmR,seq,sep='\\t')\n"
   ]
  },
  {
   "cell_type": "code",
   "execution_count": 56,
   "metadata": {
    "collapsed": false
   },
   "outputs": [
    {
     "data": {
      "text/plain": [
       "19"
      ]
     },
     "execution_count": 56,
     "metadata": {},
     "output_type": "execute_result"
    }
   ],
   "source": [
    "len('ATGGCGATGCCTCCCGCTG')"
   ]
  },
  {
   "cell_type": "code",
   "execution_count": null,
   "metadata": {
    "collapsed": true
   },
   "outputs": [],
   "source": []
  }
 ],
 "metadata": {
  "kernelspec": {
   "display_name": "Python 2",
   "language": "python",
   "name": "python2"
  },
  "language_info": {
   "codemirror_mode": {
    "name": "ipython",
    "version": 2
   },
   "file_extension": ".py",
   "mimetype": "text/x-python",
   "name": "python",
   "nbconvert_exporter": "python",
   "pygments_lexer": "ipython2",
   "version": "2.7.6"
  }
 },
 "nbformat": 4,
 "nbformat_minor": 0
}
